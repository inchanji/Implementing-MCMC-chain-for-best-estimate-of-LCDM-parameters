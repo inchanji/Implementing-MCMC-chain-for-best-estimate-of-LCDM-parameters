{
 "cells": [
  {
   "cell_type": "markdown",
   "metadata": {},
   "source": [
    "# Constructing the likelihood of cosmological parameters using MCMC chain:\n",
    "# Metropolis-Hastings vs. Affine-Invariance\n",
    "\n",
    "\n",
    "In this notebook, I show how MCMC chains work to evaluate the likelihood of cosmological parameters\n",
    "\n",
    "The cosmic microwave background (CMB) is electromagnetic radiation as a remnant from an early stage of the universe in the standard cosmology. The use of CMB observation enables us to explore the evolution of the Universe and temperatures at all angular positions are measured for this study. There are 6 parameters which descibe the evolution of the cosmic structure and the paramters with relavant physical models constraint the angular distribution of temperature. The cosmological parameters are:\n",
    "> - **Ω_b**: density of baryonic matter\n",
    "- **Ω_cdm**: density of cold dark matter (cdm)\n",
    "- **τ_reio**: optical depth at the epoch of reionization\n",
    "- **θ_s**: the angular scale of the sound horizon at matter-radiation equality\n",
    "- **A_s**: curvature perturbations\n",
    "- **n_s**: scalar spectral index.\n",
    "\n",
    "\n",
    "\n",
    "The finite-dimensional distribution (hearafter f.d.d. data is discretely spaced in the units of pixel) of cosmic temperature follow a Gaussian random process. The observed data consist of: \n",
    "\\begin{aligned}\n",
    "\\vec{\\rm d}~({\\rm =}~ d(\\hat{n})) = T(\\hat{n}) + \\mathcal{E}(\\hat{n}) \n",
    "\\end{aligned}\n",
    "where $\\vec{\\rm d}$(or d($\\hat{n}$)) is data , T($\\hat{n}$) $\\sim (0,\\Sigma^{TT}(\\vec{p}))$ is model temperature, $\\mathcal{E}$($\\hat{n}$) $\\sim (0,\\Sigma^{\\mathcal{EE}})$ is noise bias, and $\\hat{n}$ is angular position vector. \n",
    "\n",
    "Acutally, the temperature we observe is PSF-convolved one. Therefore, <br>\n",
    "\\begin{aligned}\n",
    "&~d(\\hat{n}) = \\phi * T(\\hat{n}) + \\mathcal{E}(\\hat{n}) ~ :{\\rm general~expression}\\\\\n",
    "\\Longleftrightarrow &~d_{lm} = (\\phi * T)_{lm} + \\mathcal{E}_{lm} ~~~ :{\\rm expressed~in~spherical~harmonics~on~S}^2\n",
    "\\end{aligned}              \n",
    "where $\\phi$ is a Gaussian beam PSF on $S^2$.\n",
    "\n",
    "Dividing by the beam and renaming $d_{lm}~\\&~\\mathcal{E}_{lm}$ gives a general model for observation:\n",
    "\\begin{aligned}\n",
    "d_{lm} = T_{lm} + \\mathcal{E}_{lm} ~~~ {\\rm for~}l={\\rm 0,1,2,\\cdots,~and~}m=-l,-l+1,\\cdots,l-1,l\n",
    "\\end{aligned}     \n",
    "where $E(T_{lm}\\cdot\\overline{T_{l'm'}})=\\delta_{ll'}\\delta_{mm'}C_l^{TT}$,\n",
    "$E(\\mathcal{E}_{lm}\\cdot\\overline{\\mathcal{E}_{l'm'}})=\\delta_{ll'}\\delta_{mm'}C_l^{\\mathcal{EE}}\n",
    "= \\delta_{ll'}\\delta_{mm'}\\sigma^2\\exp\\bigg(\\frac{b^2}{8\\log 2}l(l+1)\\bigg)$, $\\sigma$ is addictive noise level, and $b$ is FWHM of the PSF.\n",
    "\n"
   ]
  },
  {
   "cell_type": "markdown",
   "metadata": {},
   "source": [
    "# Getting Started: reading data & initializing paramters\n",
    "\n",
    "As the first step of our analysis, I read a set of 9-year WMAP data with estimated cosmological paramters and fully available  MCMC chain (Hinshaw et al. 2013). The mean of each parameter data is the best estimate by WMAP observation."
   ]
  },
  {
   "cell_type": "code",
   "execution_count": 1,
   "metadata": {},
   "outputs": [],
   "source": [
    "from matplotlib import pyplot as plt\n",
    "import seaborn as sns\n",
    "import numpy as np\n",
    "import h5py\n",
    "import sys\n",
    "import warnings\n",
    "import pypico\n",
    "warnings.filterwarnings('ignore')\n",
    "path = '/Users/inchanji/Research/wmap_lcdm_wmap9_chains_v5/'"
   ]
  },
  {
   "cell_type": "code",
   "execution_count": 2,
   "metadata": {},
   "outputs": [],
   "source": [
    "nlines = sum(1 for line in open(path+'omegach2'))\n",
    "nchain = 100_000\n",
    "\n",
    "omega_b_chain     = np.loadtxt(path + 'omegabh2', usecols=(1),dtype = np.float64)[:nchain]\n",
    "omega_cdm_chain   = np.loadtxt(path + 'omegach2', usecols=(1),dtype = np.float64)[:nchain]\n",
    "tau_reio_chain    = np.loadtxt(path + 'tau', usecols=(1),dtype = np.float64)[:nchain]\n",
    "theta_s_chain     = np.loadtxt(path + 'thetastar', usecols=(1),dtype = np.float64)[:nchain]\n",
    "A_s_109_chain     = np.loadtxt(path + 'a002', usecols=(1),dtype = np.float64)[:nchain]\n",
    "# which is 10⁹ * A_s\n",
    "n_s_chain         = np.loadtxt(path + 'ns002', usecols=(1),dtype = np.float64)[:nchain]\n"
   ]
  },
  {
   "cell_type": "code",
   "execution_count": 3,
   "metadata": {},
   "outputs": [],
   "source": [
    "full_chain = np.stack((omega_b_chain, omega_cdm_chain, \n",
    "                       tau_reio_chain, theta_s_chain, \n",
    "                       A_s_109_chain,n_s_chain), axis = 1)\n",
    "\n",
    "wmap_chain = full_chain.copy()"
   ]
  },
  {
   "cell_type": "code",
   "execution_count": 4,
   "metadata": {},
   "outputs": [],
   "source": [
    "sig2 = (10.0/3437.75)**2  # <---10μk arcmin noise level converted to radian pixels (1 radian = 3437.75 arcmin)\n",
    "b2   = 0.0035**2          # <-- FWHM of 0.2ᵒ ≈ 12.0 armin ≈ 0.0035 radians          "
   ]
  },
  {
   "cell_type": "code",
   "execution_count": 5,
   "metadata": {},
   "outputs": [],
   "source": [
    "def cov(mat):\n",
    "    # kernel is dead when using np.cov()\n",
    "    _, ncov = np.shape(mat)\n",
    "    covmat = np.zeros((ncov,ncov))\n",
    "    for i in range(ncov):\n",
    "        for j in range(i,ncov):\n",
    "            if i==j:\n",
    "                covmat[i,j] = np.var(mat[:,i])\n",
    "            else:\n",
    "                covmat[i,j] = np.cov(mat[:,i],mat[:,j])[0,1]\n",
    "                covmat[j,i] = np.cov(mat[:,i],mat[:,j])[1,0]\n",
    "    return covmat"
   ]
  },
  {
   "cell_type": "code",
   "execution_count": 6,
   "metadata": {},
   "outputs": [],
   "source": [
    "cov_wmap = cov(full_chain)"
   ]
  },
  {
   "cell_type": "code",
   "execution_count": 7,
   "metadata": {},
   "outputs": [
    {
     "data": {
      "text/plain": [
       "['bandpowers']"
      ]
     },
     "execution_count": 7,
     "metadata": {},
     "output_type": "execute_result"
    }
   ],
   "source": [
    "f = h5py.File(path + 'bandpowers.h5', 'r')\n",
    "list(f.keys())"
   ]
  },
  {
   "cell_type": "code",
   "execution_count": 8,
   "metadata": {},
   "outputs": [
    {
     "data": {
      "text/plain": [
       "(5626,)"
      ]
     },
     "execution_count": 8,
     "metadata": {},
     "output_type": "execute_result"
    }
   ],
   "source": [
    "bandpowers = f['bandpowers']\n",
    "np.shape(bandpowers)"
   ]
  },
  {
   "cell_type": "code",
   "execution_count": 9,
   "metadata": {},
   "outputs": [
    {
     "data": {
      "text/plain": [
       "['lcdm_sim_truth']"
      ]
     },
     "execution_count": 9,
     "metadata": {},
     "output_type": "execute_result"
    }
   ],
   "source": [
    "f = h5py.File(path + 'lcdm_sim_truth.h5', 'r')\n",
    "list(f.keys())"
   ]
  },
  {
   "cell_type": "code",
   "execution_count": 10,
   "metadata": {},
   "outputs": [
    {
     "data": {
      "text/plain": [
       "(6, 1)"
      ]
     },
     "execution_count": 10,
     "metadata": {},
     "output_type": "execute_result"
    }
   ],
   "source": [
    "lcdm_sim_truth = f['lcdm_sim_truth']\n",
    "np.shape(lcdm_sim_truth)"
   ]
  },
  {
   "cell_type": "code",
   "execution_count": 11,
   "metadata": {},
   "outputs": [
    {
     "data": {
      "text/plain": [
       "array([[0.02154707],\n",
       "       [0.11744188],\n",
       "       [0.0908262 ],\n",
       "       [0.01040136],\n",
       "       [2.57248823],\n",
       "       [0.95556754]])"
      ]
     },
     "execution_count": 11,
     "metadata": {},
     "output_type": "execute_result"
    }
   ],
   "source": [
    "lcdm_sim_truth.value"
   ]
  },
  {
   "cell_type": "code",
   "execution_count": 18,
   "metadata": {},
   "outputs": [],
   "source": [
    "picoload = pypico.load_pico(path+'pico3_tailmonty_v34_py3.dat')"
   ]
  },
  {
   "cell_type": "code",
   "execution_count": 19,
   "metadata": {
    "scrolled": false
   },
   "outputs": [
    {
     "data": {
      "text/plain": [
       "{'Alens',\n",
       " 'helium_fraction',\n",
       " 'massive_neutrinos',\n",
       " 'ombh2',\n",
       " 'omch2',\n",
       " 'omnuh2',\n",
       " 'pivot_scalar',\n",
       " 're_optical_depth',\n",
       " 'scalar_amp(1)',\n",
       " 'scalar_nrun(1)',\n",
       " 'scalar_spectral_index(1)',\n",
       " 'theta'}"
      ]
     },
     "execution_count": 19,
     "metadata": {},
     "output_type": "execute_result"
    }
   ],
   "source": [
    "picoload.inputs()"
   ]
  },
  {
   "cell_type": "code",
   "execution_count": 29,
   "metadata": {
    "scrolled": true
   },
   "outputs": [],
   "source": [
    "dict_input = {'scalar_amp(1)': 1e-9*A_s_109_chain[0],\n",
    "             're_optical_depth':tau_reio_chain[0],\n",
    "             'theta': theta_s_chain[0],\n",
    "             'ombh2': omega_b_chain[0],\n",
    "             'omch2': omega_cdm_chain[0],\n",
    "             'scalar_spectral_index(1)': n_s_chain[0],\n",
    "             'massive_neutrinos': 3.046,\n",
    "             'helium_fraction':0.248, \n",
    "             'omnuh2': 0, \n",
    "             'scalar_nrun(1)':0\n",
    "             }\n",
    "plout = picoload.get(**dict_input)"
   ]
  },
  {
   "cell_type": "code",
   "execution_count": 31,
   "metadata": {},
   "outputs": [
    {
     "data": {
      "text/plain": [
       "array([1.16099661e+03, 1.13585167e+03, 1.08457830e+03, ...,\n",
       "       2.62957422e-01, 2.62668415e-01, 2.62379909e-01])"
      ]
     },
     "execution_count": 31,
     "metadata": {},
     "output_type": "execute_result"
    }
   ],
   "source": [
    "plout['cl_TT']"
   ]
  },
  {
   "cell_type": "code",
   "execution_count": 30,
   "metadata": {},
   "outputs": [
    {
     "name": "stdout",
     "output_type": "stream",
     "text": [
      "{'helium_fraction': 0.248, 'massive_neutrinos': 3.046, 'ombh2': 0.022, 'omch2': 0.125, 'omnuh2': 0, 're_optical_depth': 0.085, 'scalar_amp(1)': 2.5e-09, 'scalar_nrun(1)': 0, 'scalar_spectral_index(1)': 0.97, 'theta': 0.0104, 'pivot_scalar': 0.002}\n",
      "['cl_TT', 'cl_TE', 'cl_EE', 'cl_BB', 'k', 'lensed_TT', 'scalar_EE', 'scalar_TT', 'cl_pT', 'lensed_EE', 'lensed_BB', 'pk', 'scalar_TE', 'lensed_TE', 'cl_pp']\n"
     ]
    }
   ],
   "source": [
    "print(picoload.example_inputs())\n",
    "print(picoload.outputs())"
   ]
  },
  {
   "cell_type": "code",
   "execution_count": 37,
   "metadata": {},
   "outputs": [
    {
     "data": {
      "text/plain": [
       "2.4353973412148978e-09"
      ]
     },
     "execution_count": 37,
     "metadata": {},
     "output_type": "execute_result"
    }
   ],
   "source": [
    "dict_input['scalar_amp(1)'][0]"
   ]
  },
  {
   "cell_type": "code",
   "execution_count": 38,
   "metadata": {},
   "outputs": [
    {
     "data": {
      "text/plain": [
       "array([2.43539734e-09, 2.28535823e-09, 2.29472634e-09, ...,\n",
       "       2.31519636e-09, 2.32093190e-09, 2.45407195e-09])"
      ]
     },
     "execution_count": 38,
     "metadata": {},
     "output_type": "execute_result"
    }
   ],
   "source": [
    "1e-9*A_s_109_chain"
   ]
  },
  {
   "cell_type": "code",
   "execution_count": 41,
   "metadata": {},
   "outputs": [
    {
     "data": {
      "text/plain": [
       "dict_keys(['scalar_amp(1)', 're_optical_depth', 'theta', 'ombh2', 'omch2', 'scalar_spectral_index(1)', 'massive_neutrinos', 'helium_fraction', 'omnuh2', 'scalar_nrun(1)'])"
      ]
     },
     "execution_count": 41,
     "metadata": {},
     "output_type": "execute_result"
    }
   ],
   "source": [
    "dict_input.keys()"
   ]
  },
  {
   "cell_type": "code",
   "execution_count": 42,
   "metadata": {},
   "outputs": [
    {
     "data": {
      "text/plain": [
       "{'fits': {'lensed_TT': [<pypico.datafiles.3e624ff23f85df8ba6355a4e18135245.PicoFit at 0x10ed7b5c0>],\n",
       "  'scalar_EE': [<pypico.datafiles.3e624ff23f85df8ba6355a4e18135245.PicoFit at 0x10ed750b8>],\n",
       "  'scalar_TT': [<pypico.datafiles.3e624ff23f85df8ba6355a4e18135245.PicoFit at 0x10ed75048>],\n",
       "  'cl_pT': [<pypico.datafiles.3e624ff23f85df8ba6355a4e18135245.PicoFit at 0x1a1cec30b8>],\n",
       "  'lensed_EE': [<pypico.datafiles.3e624ff23f85df8ba6355a4e18135245.PicoFit at 0x1a1cec3128>],\n",
       "  'lensed_BB': [<pypico.datafiles.3e624ff23f85df8ba6355a4e18135245.PicoFit at 0x1a1cec3208>],\n",
       "  'pk': [<pypico.datafiles.3e624ff23f85df8ba6355a4e18135245.PicoFit at 0x1a1cec32e8>],\n",
       "  'scalar_TE': [<pypico.datafiles.3e624ff23f85df8ba6355a4e18135245.PicoFit at 0x1a1cec33c8>],\n",
       "  'lensed_TE': [<pypico.datafiles.3e624ff23f85df8ba6355a4e18135245.PicoFit at 0x1a1cec3438>],\n",
       "  'cl_pp': [<pypico.datafiles.3e624ff23f85df8ba6355a4e18135245.PicoFit at 0x1a1cec3518>]},\n",
       " 'k': array([9.990000e-05, 1.046329e-04, 1.095900e-04, 1.147819e-04,\n",
       "        1.202199e-04, 1.259154e-04, 1.318808e-04, 1.381288e-04,\n",
       "        1.446728e-04, 1.515269e-04, 1.587056e-04, 1.662245e-04,\n",
       "        1.740996e-04, 1.823477e-04, 1.909867e-04, 2.000349e-04,\n",
       "        2.095118e-04, 2.194377e-04, 2.298338e-04, 2.407224e-04,\n",
       "        2.521269e-04, 2.640717e-04, 2.765824e-04, 2.896858e-04,\n",
       "        3.034100e-04, 3.177844e-04, 3.328399e-04, 3.486085e-04,\n",
       "        3.651243e-04, 3.824225e-04, 4.005402e-04, 4.195162e-04,\n",
       "        4.393913e-04, 4.602080e-04, 4.820108e-04, 5.048467e-04,\n",
       "        5.287644e-04, 5.538152e-04, 5.800528e-04, 6.075335e-04,\n",
       "        6.363161e-04, 6.664623e-04, 6.980368e-04, 7.311071e-04,\n",
       "        7.657441e-04, 8.020221e-04, 8.400189e-04, 8.798157e-04,\n",
       "        9.214980e-04, 9.651551e-04, 1.010880e-03, 1.058772e-03,\n",
       "        1.108933e-03, 1.161470e-03, 1.216496e-03, 1.274128e-03,\n",
       "        1.334492e-03, 1.397715e-03, 1.463933e-03, 1.533289e-03,\n",
       "        1.605930e-03, 1.682013e-03, 1.761700e-03, 1.845163e-03,\n",
       "        1.932580e-03, 2.024138e-03, 2.120034e-03, 2.220473e-03,\n",
       "        2.325670e-03, 2.435852e-03, 2.551253e-03, 2.672121e-03,\n",
       "        2.798716e-03, 2.931309e-03, 3.070183e-03, 3.215636e-03,\n",
       "        3.367981e-03, 3.527543e-03, 3.694664e-03, 3.869703e-03,\n",
       "        4.053035e-03, 4.245052e-03, 4.446167e-03, 4.656809e-03,\n",
       "        4.877431e-03, 5.108505e-03, 5.350526e-03, 5.604013e-03,\n",
       "        5.869510e-03, 6.147585e-03, 6.438834e-03, 6.743881e-03,\n",
       "        7.063380e-03, 7.398016e-03, 7.748506e-03, 8.115600e-03,\n",
       "        8.500086e-03, 8.902788e-03, 9.324568e-03, 9.766330e-03,\n",
       "        1.022902e-02, 1.071363e-02, 1.122120e-02, 1.175282e-02,\n",
       "        1.230963e-02, 1.289281e-02, 1.350362e-02, 1.414337e-02,\n",
       "        1.481343e-02, 1.551523e-02, 1.625028e-02, 1.702016e-02,\n",
       "        1.782651e-02, 1.867106e-02, 1.955562e-02, 2.048210e-02,\n",
       "        2.145246e-02, 2.246879e-02, 2.353328e-02, 2.464819e-02,\n",
       "        2.581593e-02, 2.703899e-02, 2.832000e-02, 2.966169e-02,\n",
       "        3.106695e-02, 3.253878e-02, 3.408034e-02, 3.569494e-02,\n",
       "        3.738603e-02, 3.915723e-02, 4.101235e-02, 4.295536e-02,\n",
       "        4.499042e-02, 4.712189e-02, 4.935435e-02, 5.169257e-02,\n",
       "        5.414156e-02, 5.670658e-02, 5.939312e-02, 6.220694e-02,\n",
       "        6.515407e-02, 6.824082e-02, 7.147380e-02, 7.485996e-02,\n",
       "        7.840654e-02, 8.212114e-02, 8.601172e-02, 9.008663e-02,\n",
       "        9.435459e-02, 9.882474e-02, 1.035067e-01, 1.084104e-01,\n",
       "        1.135465e-01, 1.189259e-01, 1.245602e-01, 1.304613e-01,\n",
       "        1.366421e-01, 1.431157e-01, 1.498959e-01, 1.569974e-01,\n",
       "        1.644354e-01, 1.722257e-01, 1.803851e-01, 1.889310e-01,\n",
       "        1.978819e-01, 2.072567e-01, 2.170758e-01, 2.273600e-01,\n",
       "        2.381314e-01, 2.494132e-01, 2.612294e-01, 2.736055e-01,\n",
       "        2.865679e-01, 3.001443e-01, 3.143640e-01, 3.292574e-01,\n",
       "        3.448563e-01, 3.611943e-01, 3.783063e-01, 3.962290e-01,\n",
       "        4.150008e-01, 4.346620e-01, 4.552546e-01, 4.768228e-01,\n",
       "        4.994128e-01, 5.230731e-01, 5.478543e-01, 5.738095e-01,\n",
       "        6.009944e-01, 6.294673e-01, 6.592890e-01, 6.905236e-01,\n",
       "        7.232379e-01, 7.575022e-01, 7.933897e-01, 8.309775e-01,\n",
       "        8.703460e-01, 9.115797e-01, 9.547668e-01, 1.000000e+00])}"
      ]
     },
     "execution_count": 42,
     "metadata": {},
     "output_type": "execute_result"
    }
   ],
   "source": [
    "picoload._data"
   ]
  },
  {
   "cell_type": "code",
   "execution_count": null,
   "metadata": {},
   "outputs": [],
   "source": []
  }
 ],
 "metadata": {
  "kernelspec": {
   "display_name": "Python 3",
   "language": "python",
   "name": "python3"
  },
  "language_info": {
   "codemirror_mode": {
    "name": "ipython",
    "version": 3
   },
   "file_extension": ".py",
   "mimetype": "text/x-python",
   "name": "python",
   "nbconvert_exporter": "python",
   "pygments_lexer": "ipython3",
   "version": "3.6.5"
  }
 },
 "nbformat": 4,
 "nbformat_minor": 2
}
